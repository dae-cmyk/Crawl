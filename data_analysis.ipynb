{
 "cells": [
  {
   "cell_type": "code",
   "execution_count": 63,
   "source": [
    "import pandas as pd"
   ],
   "outputs": [],
   "metadata": {}
  },
  {
   "cell_type": "code",
   "execution_count": 64,
   "source": [
    "albums = pd.read_csv('ModelAlbumLinks.txt', delimiter= ';', header = None)\r\n",
    "albums.columns = ['model', 'album', 'link']"
   ],
   "outputs": [],
   "metadata": {}
  },
  {
   "cell_type": "code",
   "execution_count": 65,
   "source": [
    "albums.head()"
   ],
   "outputs": [
    {
     "output_type": "execute_result",
     "data": {
      "text/html": [
       "<div>\n",
       "<style scoped>\n",
       "    .dataframe tbody tr th:only-of-type {\n",
       "        vertical-align: middle;\n",
       "    }\n",
       "\n",
       "    .dataframe tbody tr th {\n",
       "        vertical-align: top;\n",
       "    }\n",
       "\n",
       "    .dataframe thead th {\n",
       "        text-align: right;\n",
       "    }\n",
       "</style>\n",
       "<table border=\"1\" class=\"dataframe\">\n",
       "  <thead>\n",
       "    <tr style=\"text-align: right;\">\n",
       "      <th></th>\n",
       "      <th>model</th>\n",
       "      <th>album</th>\n",
       "      <th>link</th>\n",
       "    </tr>\n",
       "  </thead>\n",
       "  <tbody>\n",
       "    <tr>\n",
       "      <th>0</th>\n",
       "      <td>Alisa I</td>\n",
       "      <td>Sweet and charming stuns us with her sexy legs...</td>\n",
       "      <td>https://k5x5n5g8.ssl.hwcdn.net/content/181079/...</td>\n",
       "    </tr>\n",
       "    <tr>\n",
       "      <th>1</th>\n",
       "      <td>Alisa I</td>\n",
       "      <td>Sweet and charming stuns us with her sexy legs...</td>\n",
       "      <td>https://k5x5n5g8.ssl.hwcdn.net/content/181079/...</td>\n",
       "    </tr>\n",
       "    <tr>\n",
       "      <th>2</th>\n",
       "      <td>Alisa I</td>\n",
       "      <td>Sweet and charming stuns us with her sexy legs...</td>\n",
       "      <td>https://k5x5n5g8.ssl.hwcdn.net/content/181079/...</td>\n",
       "    </tr>\n",
       "    <tr>\n",
       "      <th>3</th>\n",
       "      <td>Alisa I</td>\n",
       "      <td>Sweet and charming stuns us with her sexy legs...</td>\n",
       "      <td>https://k5x5n5g8.ssl.hwcdn.net/content/181079/...</td>\n",
       "    </tr>\n",
       "    <tr>\n",
       "      <th>4</th>\n",
       "      <td>Alisa I</td>\n",
       "      <td>Sweet and charming stuns us with her sexy legs...</td>\n",
       "      <td>https://k5x5n5g8.ssl.hwcdn.net/content/181079/...</td>\n",
       "    </tr>\n",
       "  </tbody>\n",
       "</table>\n",
       "</div>"
      ],
      "text/plain": [
       "     model                                              album  \\\n",
       "0  Alisa I  Sweet and charming stuns us with her sexy legs...   \n",
       "1  Alisa I  Sweet and charming stuns us with her sexy legs...   \n",
       "2  Alisa I  Sweet and charming stuns us with her sexy legs...   \n",
       "3  Alisa I  Sweet and charming stuns us with her sexy legs...   \n",
       "4  Alisa I  Sweet and charming stuns us with her sexy legs...   \n",
       "\n",
       "                                                link  \n",
       "0  https://k5x5n5g8.ssl.hwcdn.net/content/181079/...  \n",
       "1  https://k5x5n5g8.ssl.hwcdn.net/content/181079/...  \n",
       "2  https://k5x5n5g8.ssl.hwcdn.net/content/181079/...  \n",
       "3  https://k5x5n5g8.ssl.hwcdn.net/content/181079/...  \n",
       "4  https://k5x5n5g8.ssl.hwcdn.net/content/181079/...  "
      ]
     },
     "metadata": {},
     "execution_count": 65
    }
   ],
   "metadata": {}
  },
  {
   "cell_type": "markdown",
   "source": [
    "Model 'Alisa I' number of albums"
   ],
   "metadata": {}
  },
  {
   "cell_type": "code",
   "execution_count": 66,
   "source": [
    "len(albums[albums['model'] == 'Alisa I']['album'].unique())"
   ],
   "outputs": [
    {
     "output_type": "execute_result",
     "data": {
      "text/plain": [
       "30"
      ]
     },
     "metadata": {},
     "execution_count": 66
    }
   ],
   "metadata": {}
  },
  {
   "cell_type": "markdown",
   "source": [
    "Model 'Alisa I' album pictures"
   ],
   "metadata": {}
  },
  {
   "cell_type": "code",
   "execution_count": 67,
   "source": [
    "albums[albums['model'] == 'Alisa I']['album'].value_counts()"
   ],
   "outputs": [
    {
     "output_type": "execute_result",
     "data": {
      "text/plain": [
       "Sweet and charming stuns us with her sexy legs and shaved pussy                                         20\n",
       "Burning hot brunette Alisa Amore takes off her floral coat baring her magnificent big boobs             20\n",
       "Alisa Amore graces us with her beautiful body and enchanting smile                                      20\n",
       "Magnificent busty babe poses naked in the bathroom and presents her golden curves                       20\n",
       "Fantastic young and charming girl feels her emptiness with sensual undressing                           20\n",
       "Burning hot young doll Alisa Amore playfully poses baring her perfect round boobs                       20\n",
       "Romantic and effortlessly beautiful dame wants you to enjoy her body                                    20\n",
       "Fabulous brunette Alisa I presents her curvy body and big boobs as she poses on the rocks               20\n",
       "Top class brunette model plays with her big tits packed only in black and white stockings               20\n",
       "Brunette honey poses in front of the full length mirror giving us the perfect view of her curvy body    20\n",
       "Big titted brunette Alisa I takes off her clothes and leaves us speechless with sensual naked posing    20\n",
       "Perfectly curved brunette with nice boobs erotically poses on the bed                                   20\n",
       "Busty beauty Alisa Amore wears nothing and sits in her kitchen                                          20\n",
       "Angelic babe delightfully poses showing us her perfect round melons                                     20\n",
       "Gorgeous girl Alisa I poses naked sitting in the armchair and squizzing her large boobs                 20\n",
       "Perfectly shaped brunette angel gently strips outdoors exposing her round breasts                       20\n",
       "the Hungarian cutie looks simply irresistible without any clothes on her perfect body                   20\n",
       "Perfectly shaped brunette Alisa I sensually poses on the beach sand and dazzles us with her beauty      20\n",
       "Big titted lady Alisa I simply shows us her qualities in this amazing posing performance                15\n",
       "Hottie with amazing boobs lets you enjoy her taking a bath                                              15\n",
       "Big titted bomb Alisa I is rolling naked on the living room floor                                       15\n",
       "Brunette goddess Alisa I teasing with her perfect round breast and sexy ass                             15\n",
       "Charming doll with beautiful breasts poses naked for the camera objective                               15\n",
       "A stunning young lady is already naked so we can see her perfectly shaped body                          15\n",
       "Majestic brunette doll Alisa I teases and shows of her stunning tits in front of a camera               15\n",
       "Brunette hottie removes her clothes so we can see her perfect boobs                                     15\n",
       "Sweet angel Alisa I poses in a hot bath and dazzles us with her perfect round tits                      15\n",
       "Beautiful brunette Jessica Albanka takes us to her apartment to show us her big puffy breasts           12\n",
       "Sexy chick takes a shower presenting us her body shapes perfectly                                       12\n",
       "Lovely babe flirtatiously reveals her foxy figure as she alluringly poses at home                       12\n",
       "Name: album, dtype: int64"
      ]
     },
     "metadata": {},
     "execution_count": 67
    }
   ],
   "metadata": {}
  },
  {
   "cell_type": "markdown",
   "source": [
    "number of photo taken by each model"
   ],
   "metadata": {}
  },
  {
   "cell_type": "code",
   "execution_count": 68,
   "source": [
    "model_pic_count = albums['model'].value_counts()\r\n",
    "model_pic_count"
   ],
   "outputs": [
    {
     "output_type": "execute_result",
     "data": {
      "text/plain": [
       "no image            26212\n",
       "Susann                977\n",
       "Georgia               694\n",
       "Kiara Cole            600\n",
       "Mango                 600\n",
       "                    ...  \n",
       "Sofia S                 5\n",
       "Lauren Estrada          5\n",
       "Morgan Maria            5\n",
       "Flavia Monti            5\n",
       "Sladana Damjanic        5\n",
       "Name: model, Length: 2477, dtype: int64"
      ]
     },
     "metadata": {},
     "execution_count": 68
    }
   ],
   "metadata": {}
  },
  {
   "cell_type": "markdown",
   "source": [
    "visualisation about number of photo taken by each model"
   ],
   "metadata": {}
  },
  {
   "cell_type": "code",
   "execution_count": 69,
   "source": [
    "model_pic_count.drop('no image', axis=0).head(10).plot(kind='bar', title='number of photo taken by each model')"
   ],
   "outputs": [
    {
     "output_type": "execute_result",
     "data": {
      "text/plain": [
       "<AxesSubplot:title={'center':'number of photo taken by each model'}>"
      ]
     },
     "metadata": {},
     "execution_count": 69
    },
    {
     "output_type": "display_data",
     "data": {
      "image/png": "[encoded data removed]",
      "text/plain": [
       "<Figure size 432x288 with 1 Axes>"
      ]
     },
     "metadata": {
      "needs_background": "light"
     }
    }
   ],
   "metadata": {}
  },
  {
   "cell_type": "markdown",
   "source": [
    "number of photo in each album"
   ],
   "metadata": {}
  },
  {
   "cell_type": "code",
   "execution_count": 70,
   "source": [
    "albums['album'].value_counts()"
   ],
   "outputs": [
    {
     "output_type": "execute_result",
     "data": {
      "text/plain": [
       "Premiere                                                                      657\n",
       "Penthouse Pet                                                                 135\n",
       "Juicy Jessie reveals her lush pussy and firm ass for your pleasure             60\n",
       "Mirror Mirror                                                                  57\n",
       "On The Rocks                                                                   57\n",
       "                                                                             ... \n",
       "Latina goddess Flavia Monti reveals her fantastic curves in the bedroom         5\n",
       "Busty goddess Morgan Maria proudly shows off her stunning attributes            5\n",
       "Fantastic brunette Kelly Amorim puts all of her attributes out for display      5\n",
       "Playboy Serbia                                                                  5\n",
       "Gorgeous blonde doll Marina Shevareva nude in th shower                         5\n",
       "Name: album, Length: 24141, dtype: int64"
      ]
     },
     "metadata": {},
     "execution_count": 70
    }
   ],
   "metadata": {}
  }
 ],
 "metadata": {
  "orig_nbformat": 4,
  "language_info": {
   "name": "python",
   "version": "3.9.7",
   "mimetype": "text/x-python",
   "codemirror_mode": {
    "name": "ipython",
    "version": 3
   },
   "pygments_lexer": "ipython3",
   "nbconvert_exporter": "python",
   "file_extension": ".py"
  },
  "kernelspec": {
   "name": "python3",
   "display_name": "Python 3.9.7 64-bit"
  },
  "interpreter": {
   "hash": "cc9e58485c66127f781685c073442b08643c5b6822b9701b79a89409626f1f30"
  }
 },
 "nbformat": 4,
 "nbformat_minor": 2
}